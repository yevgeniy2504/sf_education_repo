{
 "cells": [
  {
   "cell_type": "code",
   "execution_count": 2,
   "id": "5481c23f",
   "metadata": {},
   "outputs": [],
   "source": [
    "import pandas as pd\n",
    "\n",
    "dataset = pd.read_csv('data/MovieLens/dates.csv')\n",
    "movies = pd.read_csv('data/MovieLens/movies.csv')\n",
    "ratings1 = pd.read_csv('data/MovieLens/ratings1.csv')\n",
    "ratings2 = pd.read_csv('data/MovieLens/ratings2.csv')"
   ]
  },
  {
   "cell_type": "code",
   "execution_count": 3,
   "id": "1bacafab",
   "metadata": {},
   "outputs": [
    {
     "data": {
      "text/plain": [
       "274"
      ]
     },
     "execution_count": 3,
     "metadata": {},
     "output_type": "execute_result"
    }
   ],
   "source": [
    "movies['title'].nunique()\n",
    "ratings1['userId'].nunique()"
   ]
  },
  {
   "cell_type": "code",
   "execution_count": 4,
   "id": "e1e8fe5f",
   "metadata": {},
   "outputs": [
    {
     "data": {
      "text/plain": [
       "0    2000\n",
       "Name: year, dtype: int32"
      ]
     },
     "execution_count": 4,
     "metadata": {},
     "output_type": "execute_result"
    }
   ],
   "source": [
    "dataset['date'] = pd.to_datetime(dataset['date'])\n",
    "dataset['year'] = dataset['date'].dt.year\n",
    "dataset['year'].mode()"
   ]
  },
  {
   "cell_type": "code",
   "execution_count": 5,
   "id": "a00375a5",
   "metadata": {},
   "outputs": [
    {
     "data": {
      "text/html": [
       "<div>\n",
       "<style scoped>\n",
       "    .dataframe tbody tr th:only-of-type {\n",
       "        vertical-align: middle;\n",
       "    }\n",
       "\n",
       "    .dataframe tbody tr th {\n",
       "        vertical-align: top;\n",
       "    }\n",
       "\n",
       "    .dataframe thead th {\n",
       "        text-align: right;\n",
       "    }\n",
       "</style>\n",
       "<table border=\"1\" class=\"dataframe\">\n",
       "  <thead>\n",
       "    <tr style=\"text-align: right;\">\n",
       "      <th></th>\n",
       "      <th>userId</th>\n",
       "      <th>movieId</th>\n",
       "      <th>rating</th>\n",
       "    </tr>\n",
       "  </thead>\n",
       "  <tbody>\n",
       "    <tr>\n",
       "      <th>0</th>\n",
       "      <td>1</td>\n",
       "      <td>1</td>\n",
       "      <td>4.0</td>\n",
       "    </tr>\n",
       "    <tr>\n",
       "      <th>1</th>\n",
       "      <td>1</td>\n",
       "      <td>3</td>\n",
       "      <td>4.0</td>\n",
       "    </tr>\n",
       "    <tr>\n",
       "      <th>2</th>\n",
       "      <td>1</td>\n",
       "      <td>6</td>\n",
       "      <td>4.0</td>\n",
       "    </tr>\n",
       "    <tr>\n",
       "      <th>3</th>\n",
       "      <td>1</td>\n",
       "      <td>47</td>\n",
       "      <td>5.0</td>\n",
       "    </tr>\n",
       "    <tr>\n",
       "      <th>4</th>\n",
       "      <td>1</td>\n",
       "      <td>50</td>\n",
       "      <td>5.0</td>\n",
       "    </tr>\n",
       "    <tr>\n",
       "      <th>...</th>\n",
       "      <td>...</td>\n",
       "      <td>...</td>\n",
       "      <td>...</td>\n",
       "    </tr>\n",
       "    <tr>\n",
       "      <th>100832</th>\n",
       "      <td>610</td>\n",
       "      <td>166534</td>\n",
       "      <td>4.0</td>\n",
       "    </tr>\n",
       "    <tr>\n",
       "      <th>100833</th>\n",
       "      <td>610</td>\n",
       "      <td>168248</td>\n",
       "      <td>5.0</td>\n",
       "    </tr>\n",
       "    <tr>\n",
       "      <th>100834</th>\n",
       "      <td>610</td>\n",
       "      <td>168250</td>\n",
       "      <td>5.0</td>\n",
       "    </tr>\n",
       "    <tr>\n",
       "      <th>100835</th>\n",
       "      <td>610</td>\n",
       "      <td>168252</td>\n",
       "      <td>5.0</td>\n",
       "    </tr>\n",
       "    <tr>\n",
       "      <th>100836</th>\n",
       "      <td>610</td>\n",
       "      <td>170875</td>\n",
       "      <td>3.0</td>\n",
       "    </tr>\n",
       "  </tbody>\n",
       "</table>\n",
       "<p>100837 rows × 3 columns</p>\n",
       "</div>"
      ],
      "text/plain": [
       "        userId  movieId  rating\n",
       "0            1        1     4.0\n",
       "1            1        3     4.0\n",
       "2            1        6     4.0\n",
       "3            1       47     5.0\n",
       "4            1       50     5.0\n",
       "...        ...      ...     ...\n",
       "100832     610   166534     4.0\n",
       "100833     610   168248     5.0\n",
       "100834     610   168250     5.0\n",
       "100835     610   168252     5.0\n",
       "100836     610   170875     3.0\n",
       "\n",
       "[100837 rows x 3 columns]"
      ]
     },
     "metadata": {},
     "output_type": "display_data"
    }
   ],
   "source": [
    "ratings = pd.concat([ratings1, ratings2], ignore_index=True)\n",
    "display(ratings)"
   ]
  },
  {
   "cell_type": "code",
   "execution_count": 6,
   "id": "5cfbf1bb",
   "metadata": {},
   "outputs": [
    {
     "name": "stdout",
     "output_type": "stream",
     "text": [
      "Число строк в таблице ratings:  100836\n"
     ]
    }
   ],
   "source": [
    "ratings = ratings.drop_duplicates(ignore_index=True)\n",
    "print('Число строк в таблице ratings: ', ratings.shape[0])\n",
    "# Число строк в таблице ratings: 100836"
   ]
  },
  {
   "cell_type": "code",
   "execution_count": 7,
   "id": "7e9a1f66",
   "metadata": {},
   "outputs": [
    {
     "data": {
      "text/html": [
       "<div>\n",
       "<style scoped>\n",
       "    .dataframe tbody tr th:only-of-type {\n",
       "        vertical-align: middle;\n",
       "    }\n",
       "\n",
       "    .dataframe tbody tr th {\n",
       "        vertical-align: top;\n",
       "    }\n",
       "\n",
       "    .dataframe thead th {\n",
       "        text-align: right;\n",
       "    }\n",
       "</style>\n",
       "<table border=\"1\" class=\"dataframe\">\n",
       "  <thead>\n",
       "    <tr style=\"text-align: right;\">\n",
       "      <th></th>\n",
       "      <th>userId</th>\n",
       "      <th>movieId</th>\n",
       "      <th>rating</th>\n",
       "      <th>date</th>\n",
       "      <th>year</th>\n",
       "    </tr>\n",
       "  </thead>\n",
       "  <tbody>\n",
       "    <tr>\n",
       "      <th>100829</th>\n",
       "      <td>610</td>\n",
       "      <td>164179</td>\n",
       "      <td>5.0</td>\n",
       "      <td>2017-05-03 21:07:11</td>\n",
       "      <td>2017</td>\n",
       "    </tr>\n",
       "    <tr>\n",
       "      <th>100830</th>\n",
       "      <td>610</td>\n",
       "      <td>166528</td>\n",
       "      <td>4.0</td>\n",
       "      <td>2017-05-04 06:29:25</td>\n",
       "      <td>2017</td>\n",
       "    </tr>\n",
       "    <tr>\n",
       "      <th>100831</th>\n",
       "      <td>610</td>\n",
       "      <td>166534</td>\n",
       "      <td>4.0</td>\n",
       "      <td>2017-05-03 21:53:22</td>\n",
       "      <td>2017</td>\n",
       "    </tr>\n",
       "    <tr>\n",
       "      <th>100832</th>\n",
       "      <td>610</td>\n",
       "      <td>168248</td>\n",
       "      <td>5.0</td>\n",
       "      <td>2017-05-03 22:21:31</td>\n",
       "      <td>2017</td>\n",
       "    </tr>\n",
       "    <tr>\n",
       "      <th>100833</th>\n",
       "      <td>610</td>\n",
       "      <td>168250</td>\n",
       "      <td>5.0</td>\n",
       "      <td>2017-05-08 19:50:47</td>\n",
       "      <td>2017</td>\n",
       "    </tr>\n",
       "    <tr>\n",
       "      <th>100834</th>\n",
       "      <td>610</td>\n",
       "      <td>168252</td>\n",
       "      <td>5.0</td>\n",
       "      <td>2017-05-03 21:19:12</td>\n",
       "      <td>2017</td>\n",
       "    </tr>\n",
       "    <tr>\n",
       "      <th>100835</th>\n",
       "      <td>610</td>\n",
       "      <td>170875</td>\n",
       "      <td>3.0</td>\n",
       "      <td>2017-05-03 21:20:15</td>\n",
       "      <td>2017</td>\n",
       "    </tr>\n",
       "  </tbody>\n",
       "</table>\n",
       "</div>"
      ],
      "text/plain": [
       "        userId  movieId  rating                date  year\n",
       "100829     610   164179     5.0 2017-05-03 21:07:11  2017\n",
       "100830     610   166528     4.0 2017-05-04 06:29:25  2017\n",
       "100831     610   166534     4.0 2017-05-03 21:53:22  2017\n",
       "100832     610   168248     5.0 2017-05-03 22:21:31  2017\n",
       "100833     610   168250     5.0 2017-05-08 19:50:47  2017\n",
       "100834     610   168252     5.0 2017-05-03 21:19:12  2017\n",
       "100835     610   170875     3.0 2017-05-03 21:20:15  2017"
      ]
     },
     "metadata": {},
     "output_type": "display_data"
    }
   ],
   "source": [
    "ratings_dates = pd.concat([ratings, dataset], axis=1)\n",
    "display(ratings_dates.tail(7))"
   ]
  },
  {
   "cell_type": "code",
   "execution_count": 8,
   "id": "7f624986",
   "metadata": {},
   "outputs": [
    {
     "data": {
      "text/html": [
       "<div>\n",
       "<style scoped>\n",
       "    .dataframe tbody tr th:only-of-type {\n",
       "        vertical-align: middle;\n",
       "    }\n",
       "\n",
       "    .dataframe tbody tr th {\n",
       "        vertical-align: top;\n",
       "    }\n",
       "\n",
       "    .dataframe thead th {\n",
       "        text-align: right;\n",
       "    }\n",
       "</style>\n",
       "<table border=\"1\" class=\"dataframe\">\n",
       "  <thead>\n",
       "    <tr style=\"text-align: right;\">\n",
       "      <th></th>\n",
       "      <th>item_id</th>\n",
       "      <th>vendor</th>\n",
       "      <th>stock_count</th>\n",
       "      <th>purchase_id</th>\n",
       "      <th>price</th>\n",
       "    </tr>\n",
       "  </thead>\n",
       "  <tbody>\n",
       "    <tr>\n",
       "      <th>0</th>\n",
       "      <td>417283</td>\n",
       "      <td>Samsung</td>\n",
       "      <td>54</td>\n",
       "      <td>101</td>\n",
       "      <td>13900</td>\n",
       "    </tr>\n",
       "    <tr>\n",
       "      <th>1</th>\n",
       "      <td>849734</td>\n",
       "      <td>LG</td>\n",
       "      <td>33</td>\n",
       "      <td>101</td>\n",
       "      <td>5330</td>\n",
       "    </tr>\n",
       "    <tr>\n",
       "      <th>2</th>\n",
       "      <td>132223</td>\n",
       "      <td>Apple</td>\n",
       "      <td>122</td>\n",
       "      <td>101</td>\n",
       "      <td>38200</td>\n",
       "    </tr>\n",
       "    <tr>\n",
       "      <th>3</th>\n",
       "      <td>573943</td>\n",
       "      <td>Apple</td>\n",
       "      <td>18</td>\n",
       "      <td>112</td>\n",
       "      <td>49990</td>\n",
       "    </tr>\n",
       "    <tr>\n",
       "      <th>4</th>\n",
       "      <td>19475</td>\n",
       "      <td>LG</td>\n",
       "      <td>102</td>\n",
       "      <td>121</td>\n",
       "      <td>9890</td>\n",
       "    </tr>\n",
       "    <tr>\n",
       "      <th>5</th>\n",
       "      <td>3294095</td>\n",
       "      <td>Apple</td>\n",
       "      <td>43</td>\n",
       "      <td>145</td>\n",
       "      <td>33000</td>\n",
       "    </tr>\n",
       "    <tr>\n",
       "      <th>6</th>\n",
       "      <td>382043</td>\n",
       "      <td>Samsung</td>\n",
       "      <td>77</td>\n",
       "      <td>145</td>\n",
       "      <td>67500</td>\n",
       "    </tr>\n",
       "    <tr>\n",
       "      <th>7</th>\n",
       "      <td>302948</td>\n",
       "      <td>Samsung</td>\n",
       "      <td>143</td>\n",
       "      <td>145</td>\n",
       "      <td>34500</td>\n",
       "    </tr>\n",
       "    <tr>\n",
       "      <th>8</th>\n",
       "      <td>100132</td>\n",
       "      <td>LG</td>\n",
       "      <td>60</td>\n",
       "      <td>221</td>\n",
       "      <td>11400</td>\n",
       "    </tr>\n",
       "  </tbody>\n",
       "</table>\n",
       "</div>"
      ],
      "text/plain": [
       "   item_id   vendor  stock_count  purchase_id  price\n",
       "0   417283  Samsung           54          101  13900\n",
       "1   849734       LG           33          101   5330\n",
       "2   132223    Apple          122          101  38200\n",
       "3   573943    Apple           18          112  49990\n",
       "4    19475       LG          102          121   9890\n",
       "5  3294095    Apple           43          145  33000\n",
       "6   382043  Samsung           77          145  67500\n",
       "7   302948  Samsung          143          145  34500\n",
       "8   100132       LG           60          221  11400"
      ]
     },
     "metadata": {},
     "output_type": "display_data"
    },
    {
     "name": "stdout",
     "output_type": "stream",
     "text": [
      "19729490\n"
     ]
    }
   ],
   "source": [
    "import pandas as pd\n",
    "\n",
    "items_df = pd.DataFrame({\n",
    "            'item_id': [417283, 849734, 132223, 573943, 19475, 3294095, 382043, 302948, 100132, 312394],\n",
    "            'vendor': ['Samsung', 'LG', 'Apple', 'Apple', 'LG', 'Apple', 'Samsung', 'Samsung', 'LG', 'ZTE'],\n",
    "            'stock_count': [54, 33, 122, 18, 102, 43, 77, 143, 60, 19]\n",
    "        })\n",
    "\n",
    "purchase_df = pd.DataFrame({\n",
    "            'purchase_id': [101, 101, 101, 112, 121, 145, 145, 145, 145, 221],\n",
    "            'item_id': [417283, 849734, 132223, 573943, 19475, 3294095, 382043, 302948, 103845, 100132],\n",
    "            'price': [13900, 5330, 38200, 49990, 9890, 33000, 67500, 34500, 89900, 11400]\n",
    "        })\n",
    "\n",
    "\n",
    "# 1. Объединение таблиц по item_id\n",
    "merged = items_df.merge(purchase_df, on='item_id', how='inner')\n",
    "display(merged)\n",
    "temp = merged.copy()\n",
    "\n",
    "temp['total_price'] = merged['price'] * merged['stock_count']\n",
    "\n",
    "# 2. Расчёт общего дохода (только по совпавшим item_id)\n",
    "income = temp['total_price'].sum()\n",
    "\n",
    "print(income)\n"
   ]
  },
  {
   "cell_type": "markdown",
   "id": "6f750253",
   "metadata": {},
   "source": [
    "# new file csv merged"
   ]
  },
  {
   "cell_type": "code",
   "execution_count": 9,
   "id": "87dffe9f",
   "metadata": {},
   "outputs": [
    {
     "data": {
      "text/html": [
       "<div>\n",
       "<style scoped>\n",
       "    .dataframe tbody tr th:only-of-type {\n",
       "        vertical-align: middle;\n",
       "    }\n",
       "\n",
       "    .dataframe tbody tr th {\n",
       "        vertical-align: top;\n",
       "    }\n",
       "\n",
       "    .dataframe thead th {\n",
       "        text-align: right;\n",
       "    }\n",
       "</style>\n",
       "<table border=\"1\" class=\"dataframe\">\n",
       "  <thead>\n",
       "    <tr style=\"text-align: right;\">\n",
       "      <th></th>\n",
       "      <th>Unnamed: 0</th>\n",
       "      <th>userId</th>\n",
       "      <th>movieId</th>\n",
       "      <th>rating</th>\n",
       "      <th>date</th>\n",
       "      <th>title</th>\n",
       "      <th>genres</th>\n",
       "    </tr>\n",
       "  </thead>\n",
       "  <tbody>\n",
       "    <tr>\n",
       "      <th>0</th>\n",
       "      <td>0</td>\n",
       "      <td>1</td>\n",
       "      <td>1</td>\n",
       "      <td>4.0</td>\n",
       "      <td>2000-07-30 18:45:03</td>\n",
       "      <td>Toy Story (1995)</td>\n",
       "      <td>Adventure|Animation|Children|Comedy|Fantasy</td>\n",
       "    </tr>\n",
       "    <tr>\n",
       "      <th>1</th>\n",
       "      <td>1</td>\n",
       "      <td>1</td>\n",
       "      <td>3</td>\n",
       "      <td>4.0</td>\n",
       "      <td>2000-07-30 18:20:47</td>\n",
       "      <td>Grumpier Old Men (1995)</td>\n",
       "      <td>Comedy|Romance</td>\n",
       "    </tr>\n",
       "    <tr>\n",
       "      <th>2</th>\n",
       "      <td>2</td>\n",
       "      <td>1</td>\n",
       "      <td>6</td>\n",
       "      <td>4.0</td>\n",
       "      <td>2000-07-30 18:37:04</td>\n",
       "      <td>Heat (1995)</td>\n",
       "      <td>Action|Crime|Thriller</td>\n",
       "    </tr>\n",
       "    <tr>\n",
       "      <th>3</th>\n",
       "      <td>3</td>\n",
       "      <td>1</td>\n",
       "      <td>47</td>\n",
       "      <td>5.0</td>\n",
       "      <td>2000-07-30 19:03:35</td>\n",
       "      <td>Seven (a.k.a. Se7en) (1995)</td>\n",
       "      <td>Mystery|Thriller</td>\n",
       "    </tr>\n",
       "    <tr>\n",
       "      <th>4</th>\n",
       "      <td>4</td>\n",
       "      <td>1</td>\n",
       "      <td>50</td>\n",
       "      <td>5.0</td>\n",
       "      <td>2000-07-30 18:48:51</td>\n",
       "      <td>Usual Suspects, The (1995)</td>\n",
       "      <td>Crime|Mystery|Thriller</td>\n",
       "    </tr>\n",
       "  </tbody>\n",
       "</table>\n",
       "</div>"
      ],
      "text/plain": [
       "   Unnamed: 0  userId  movieId  rating                 date  \\\n",
       "0           0       1        1     4.0  2000-07-30 18:45:03   \n",
       "1           1       1        3     4.0  2000-07-30 18:20:47   \n",
       "2           2       1        6     4.0  2000-07-30 18:37:04   \n",
       "3           3       1       47     5.0  2000-07-30 19:03:35   \n",
       "4           4       1       50     5.0  2000-07-30 18:48:51   \n",
       "\n",
       "                         title                                       genres  \n",
       "0             Toy Story (1995)  Adventure|Animation|Children|Comedy|Fantasy  \n",
       "1      Grumpier Old Men (1995)                               Comedy|Romance  \n",
       "2                  Heat (1995)                        Action|Crime|Thriller  \n",
       "3  Seven (a.k.a. Se7en) (1995)                             Mystery|Thriller  \n",
       "4   Usual Suspects, The (1995)                       Crime|Mystery|Thriller  "
      ]
     },
     "execution_count": 9,
     "metadata": {},
     "output_type": "execute_result"
    }
   ],
   "source": [
    "total_movies = pd.read_csv('data/MovieLens/ratings_movies.csv')\n",
    "total_movies.head()"
   ]
  },
  {
   "cell_type": "code",
   "execution_count": 10,
   "id": "ea7ee672",
   "metadata": {},
   "outputs": [],
   "source": [
    "#библиотека для регулярных выражений\n",
    "import re \n",
    "def get_year_release(arg):\n",
    "    #находим все слова по шаблону \"(DDDD)\"\n",
    "    candidates = re.findall(r'\\(\\d{4}\\)', arg) \n",
    "    # проверяем число вхождений\n",
    "    if len(candidates) > 0:\n",
    "        #если число вхождений больше 0,\n",
    "\t#очищаем строку от знаков \"(\" и \")\"\n",
    "        year = candidates[0].replace('(', '')\n",
    "        year = year.replace(')', '')\n",
    "        return int(year)\n",
    "    else:\n",
    "        #если год не указан, возвращаем None\n",
    "        return None"
   ]
  },
  {
   "cell_type": "markdown",
   "id": "912f085e",
   "metadata": {},
   "source": [
    "Задание 8.1\n",
    "1 point possible (graded)\n",
    "Создайте в таблице новый признак year_release, который соответствует году выпуска фильма.\n",
    "У скольких фильмов не указан год их выпуска?"
   ]
  },
  {
   "cell_type": "code",
   "execution_count": 11,
   "id": "6f085022",
   "metadata": {},
   "outputs": [
    {
     "name": "stdout",
     "output_type": "stream",
     "text": [
      "year_release\n",
      "False    100818\n",
      "True         18\n",
      "Name: count, dtype: int64\n"
     ]
    }
   ],
   "source": [
    "total_movies['year_release'] = total_movies['title'].apply(get_year_release)\n",
    "total_movies.describe()\n",
    "\n",
    "print(total_movies['year_release'].isna().value_counts())"
   ]
  },
  {
   "cell_type": "markdown",
   "id": "dd291b9f",
   "metadata": {},
   "source": [
    "Какой фильм, выпущенный в 1999 году, получил наименьшую среднюю оценку зрителей?\n",
    "В качестве ответа запишите название этого фильма без указания года его выпуска."
   ]
  },
  {
   "cell_type": "code",
   "execution_count": null,
   "id": "af5748f2",
   "metadata": {},
   "outputs": [
    {
     "name": "stdout",
     "output_type": "stream",
     "text": [
      "                                          rating\n",
      "title                                           \n",
      "Bloodsport: The Dark Kumite (1999)           0.5\n",
      "Trippin' (1999)                              1.0\n",
      "Source, The (1999)                           1.0\n",
      "Chill Factor (1999)                          1.0\n",
      "Simon Sez (1999)                             1.0\n",
      "...                                          ...\n",
      "Larry David: Curb Your Enthusiasm (1999)     5.0\n",
      "On the Ropes (1999)                          5.0\n",
      "Mickey's Once Upon a Christmas (1999)        5.0\n",
      "Trailer Park Boys (1999)                     5.0\n",
      "Sun Alley (Sonnenallee) (1999)               5.0\n",
      "\n",
      "[261 rows x 1 columns]\n"
     ]
    }
   ],
   "source": [
    "# 1. Фильтруем фильмы за 1999 год\n",
    "movies_1999 = total_movies[total_movies['year_release'] == 1999]\n",
    "\n",
    "# 2. Строим pivot_table\n",
    "pivot_1999 = movies_1999.pivot_table(\n",
    "    values='rating',\n",
    "    index='title',\n",
    "    aggfunc='median'\n",
    ")\n",
    "\n",
    "# 3. Сортируем по рейтингу (по возрастанию или укажи ascending=False для убывания)\n",
    "pivot_1999_sorted = pivot_1999.sort_values(by='rating')\n",
    "\n",
    "# 4. Вывод\n",
    "print(pivot_1999_sorted)\n",
    "\n"
   ]
  },
  {
   "cell_type": "markdown",
   "id": "dc071ce0",
   "metadata": {},
   "source": [
    "Какое сочетание жанров фильмов (genres), выпущенных в 2010 году, получило наименьшую среднюю оценку (rating)?\n",
    "Запишите сочетание так же, как оно указано в таблице (через разделитель |, без пробелов)."
   ]
  },
  {
   "cell_type": "code",
   "execution_count": 19,
   "id": "0eb59af8",
   "metadata": {},
   "outputs": [
    {
     "data": {
      "text/html": [
       "<div>\n",
       "<style scoped>\n",
       "    .dataframe tbody tr th:only-of-type {\n",
       "        vertical-align: middle;\n",
       "    }\n",
       "\n",
       "    .dataframe tbody tr th {\n",
       "        vertical-align: top;\n",
       "    }\n",
       "\n",
       "    .dataframe thead th {\n",
       "        text-align: right;\n",
       "    }\n",
       "</style>\n",
       "<table border=\"1\" class=\"dataframe\">\n",
       "  <thead>\n",
       "    <tr style=\"text-align: right;\">\n",
       "      <th></th>\n",
       "      <th>genres</th>\n",
       "      <th>value</th>\n",
       "    </tr>\n",
       "  </thead>\n",
       "  <tbody>\n",
       "    <tr>\n",
       "      <th>46</th>\n",
       "      <td>Action|Sci-Fi</td>\n",
       "      <td>1.00</td>\n",
       "    </tr>\n",
       "    <tr>\n",
       "      <th>14</th>\n",
       "      <td>Action|Adventure|Horror</td>\n",
       "      <td>1.50</td>\n",
       "    </tr>\n",
       "    <tr>\n",
       "      <th>36</th>\n",
       "      <td>Action|Drama|Fantasy</td>\n",
       "      <td>1.50</td>\n",
       "    </tr>\n",
       "    <tr>\n",
       "      <th>87</th>\n",
       "      <td>Crime|Romance</td>\n",
       "      <td>1.50</td>\n",
       "    </tr>\n",
       "    <tr>\n",
       "      <th>55</th>\n",
       "      <td>Adventure|Comedy|Fantasy</td>\n",
       "      <td>1.75</td>\n",
       "    </tr>\n",
       "    <tr>\n",
       "      <th>...</th>\n",
       "      <td>...</td>\n",
       "      <td>...</td>\n",
       "    </tr>\n",
       "    <tr>\n",
       "      <th>82</th>\n",
       "      <td>Crime</td>\n",
       "      <td>4.75</td>\n",
       "    </tr>\n",
       "    <tr>\n",
       "      <th>52</th>\n",
       "      <td>Adventure|Children|Comedy|Mystery</td>\n",
       "      <td>5.00</td>\n",
       "    </tr>\n",
       "    <tr>\n",
       "      <th>65</th>\n",
       "      <td>Animation|Children|Mystery</td>\n",
       "      <td>5.00</td>\n",
       "    </tr>\n",
       "    <tr>\n",
       "      <th>67</th>\n",
       "      <td>Animation|Drama|Fantasy|Mystery</td>\n",
       "      <td>5.00</td>\n",
       "    </tr>\n",
       "    <tr>\n",
       "      <th>78</th>\n",
       "      <td>Comedy|Musical</td>\n",
       "      <td>5.00</td>\n",
       "    </tr>\n",
       "  </tbody>\n",
       "</table>\n",
       "<p>119 rows × 2 columns</p>\n",
       "</div>"
      ],
      "text/plain": [
       "                               genres  value\n",
       "46                      Action|Sci-Fi   1.00\n",
       "14            Action|Adventure|Horror   1.50\n",
       "36               Action|Drama|Fantasy   1.50\n",
       "87                      Crime|Romance   1.50\n",
       "55           Adventure|Comedy|Fantasy   1.75\n",
       "..                                ...    ...\n",
       "82                              Crime   4.75\n",
       "52  Adventure|Children|Comedy|Mystery   5.00\n",
       "65         Animation|Children|Mystery   5.00\n",
       "67    Animation|Drama|Fantasy|Mystery   5.00\n",
       "78                     Comedy|Musical   5.00\n",
       "\n",
       "[119 rows x 2 columns]"
      ]
     },
     "execution_count": 19,
     "metadata": {},
     "output_type": "execute_result"
    }
   ],
   "source": [
    "movies_2010 = total_movies[total_movies['year_release'] == 2010]\n",
    "\n",
    "pivot_2010 = movies_2010.pivot_table(\n",
    "    values='rating',\n",
    "    columns='genres',\n",
    "    aggfunc='median'\n",
    ")\n",
    "\n",
    "# 3. Сортируем по рейтингу (по возрастанию или укажи ascending=False для убывания)\n",
    "pivot_2010_sorted = pd.melt(pivot_2010).sort_values(by='value')\n",
    "\n",
    "pivot_2010_sorted\n",
    "\n"
   ]
  },
  {
   "cell_type": "code",
   "execution_count": 20,
   "id": "4b5f0e4a",
   "metadata": {},
   "outputs": [
    {
     "name": "stdout",
     "output_type": "stream",
     "text": [
      "<class 'pandas.core.frame.DataFrame'>\n",
      "RangeIndex: 100836 entries, 0 to 100835\n",
      "Data columns (total 8 columns):\n",
      " #   Column        Non-Null Count   Dtype  \n",
      "---  ------        --------------   -----  \n",
      " 0   Unnamed: 0    100836 non-null  int64  \n",
      " 1   userId        100836 non-null  int64  \n",
      " 2   movieId       100836 non-null  int64  \n",
      " 3   rating        100836 non-null  float64\n",
      " 4   date          100836 non-null  object \n",
      " 5   title         100836 non-null  object \n",
      " 6   genres        100836 non-null  object \n",
      " 7   year_release  100818 non-null  float64\n",
      "dtypes: float64(2), int64(3), object(3)\n",
      "memory usage: 6.2+ MB\n"
     ]
    }
   ],
   "source": [
    "total_movies.info()"
   ]
  },
  {
   "cell_type": "code",
   "execution_count": 21,
   "id": "0122dc96",
   "metadata": {},
   "outputs": [
    {
     "name": "stderr",
     "output_type": "stream",
     "text": [
      "C:\\Users\\ykarabekov\\AppData\\Local\\Temp\\ipykernel_18004\\2433144061.py:12: FutureWarning: DataFrame.applymap has been deprecated. Use DataFrame.map instead.\n",
      "  pivot_binary = pivot.applymap(lambda x: 1 if x > 0 else 0) # pyright: ignore[reportCallIssue]\n"
     ]
    },
    {
     "name": "stdout",
     "output_type": "stream",
     "text": [
      "🔎 Пользователь с наибольшим числом уникальных комбинаций жанров: 599\n"
     ]
    }
   ],
   "source": [
    "# Предположим, df — твой DataFrame\n",
    "# 1. Создаём сводную таблицу: строки — userId, колонки — genres, значения — количество просмотров\n",
    "pivot = total_movies.pivot_table(\n",
    "    index='userId',\n",
    "    columns='genres',\n",
    "    values='movieId',\n",
    "    aggfunc='count',\n",
    "    fill_value=0\n",
    ")\n",
    "\n",
    "# 2. Превращаем значения в 1/0 — смотрел или нет\n",
    "pivot_binary = pivot.applymap(lambda x: 1 if x > 0 else 0) # pyright: ignore[reportCallIssue]\n",
    "\n",
    "# 3. Считаем, сколько уникальных жанровых комбинаций смотрел каждый пользователь\n",
    "genre_combinations_count = pivot_binary.sum(axis=1)\n",
    "\n",
    "# 4. Находим userId с наибольшим числом уникальных комбинаций жанров\n",
    "top_user = genre_combinations_count.idxmax()\n",
    "\n",
    "print(\"🔎 Пользователь с наибольшим числом уникальных комбинаций жанров:\", top_user)\n"
   ]
  },
  {
   "cell_type": "code",
   "execution_count": 22,
   "id": "bde07684",
   "metadata": {},
   "outputs": [
    {
     "name": "stdout",
     "output_type": "stream",
     "text": [
      "🔎 Пользователь: 53\n"
     ]
    }
   ],
   "source": [
    "pivot = total_movies.pivot_table(\n",
    "    index='userId',\n",
    "    values='rating',\n",
    "    aggfunc={'rating': ['count', 'mean']}\n",
    ")\n",
    "\n",
    "# Убираем многоуровневость и задаём читаемые имена колонкам\n",
    "pivot.columns = ['rating_count', 'rating_mean']\n",
    "\n",
    "# 1. Находим минимальное количество оценок\n",
    "min_count = pivot['rating_count'].min()\n",
    "\n",
    "# 2. Фильтруем пользователей с этим числом оценок\n",
    "min_count_users = pivot[pivot['rating_count'] == min_count]\n",
    "\n",
    "# 3. Находим пользователя с максимальной средней оценкой среди них\n",
    "top_user = min_count_users['rating_mean'].idxmax()\n",
    "\n",
    "print(\"🔎 Пользователь:\", top_user)\n"
   ]
  },
  {
   "cell_type": "code",
   "execution_count": 26,
   "id": "bdd8fb42",
   "metadata": {},
   "outputs": [
    {
     "name": "stdout",
     "output_type": "stream",
     "text": [
      "                         rating_count  rating_mean\n",
      "genres                                            \n",
      "Action|Adventure|Sci-Fi            14     3.928571\n",
      "Action|Comedy|Sci-Fi               12     3.875000\n"
     ]
    }
   ],
   "source": [
    "# Фильтрация по 2018 году\n",
    "df_2018 = total_movies[total_movies['year_release'] == 2018]\n",
    "\n",
    "# Сводная таблица: genres -> count и mean по рейтингу\n",
    "pivot = df_2018.pivot_table(\n",
    "    index='genres',\n",
    "    values='rating',\n",
    "    aggfunc={'rating': ['count', 'mean']}\n",
    ")\n",
    "\n",
    "# Упрощаем названия колонок\n",
    "pivot.columns = ['rating_count', 'rating_mean']\n",
    "\n",
    "# Оставляем только те жанры, у которых больше 10 оценок\n",
    "filtered = pivot[pivot['rating_count'] > 10]\n",
    "\n",
    "# Сортировка по убыванию средней оценки\n",
    "sorted_pivot = filtered.sort_values(by='rating_mean', ascending=False)\n",
    "\n",
    "# Выводим таблицу\n",
    "print(sorted_pivot.head(10))  # или без .head() — покажет всю таблицу\n"
   ]
  }
 ],
 "metadata": {
  "kernelspec": {
   "display_name": ".venv-sf",
   "language": "python",
   "name": "python3"
  },
  "language_info": {
   "codemirror_mode": {
    "name": "ipython",
    "version": 3
   },
   "file_extension": ".py",
   "mimetype": "text/x-python",
   "name": "python",
   "nbconvert_exporter": "python",
   "pygments_lexer": "ipython3",
   "version": "3.11.8"
  }
 },
 "nbformat": 4,
 "nbformat_minor": 5
}
