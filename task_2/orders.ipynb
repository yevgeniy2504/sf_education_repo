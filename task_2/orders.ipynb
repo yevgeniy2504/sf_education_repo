{
 "cells": [
  {
   "cell_type": "code",
   "execution_count": 2,
   "id": "11ce9d92",
   "metadata": {},
   "outputs": [],
   "source": [
    "import pandas as pd\n",
    "\n",
    "orders = pd.read_csv('data/Orders/orders.csv', sep=';')\n",
    "products = pd.read_csv('data/Orders/products.csv', sep=';')"
   ]
  },
  {
   "cell_type": "code",
   "execution_count": 9,
   "id": "40840bb0",
   "metadata": {},
   "outputs": [
    {
     "name": "stdout",
     "output_type": "stream",
     "text": [
      "          ID товара\n",
      "Order ID           \n",
      "0                 1\n",
      "7                 1\n",
      "5                 1\n",
      "4                 1\n",
      "9                 1\n",
      "3                 2\n",
      "8                 2\n",
      "6                 2\n",
      "1                 3\n",
      "2                 4\n"
     ]
    }
   ],
   "source": [
    "orders_products_left = orders.merge(\n",
    "    products,\n",
    "    left_on='ID товара',\n",
    "    right_on='Product_ID',\n",
    "    how='left'\n",
    ")\n",
    "\n",
    "\n",
    "# Создаем сводную таблицу: сколько строк с отсутствующим товаром на каждый Order ID\n",
    "pivot = orders_products_left.pivot_table(\n",
    "    index='Order ID',\n",
    "    values='ID товара',\n",
    "    aggfunc='count'\n",
    ").sort_values(by='ID товара', ascending=True)\n",
    "\n",
    "\n",
    "\n",
    "print(pivot)\n"
   ]
  },
  {
   "cell_type": "code",
   "execution_count": 11,
   "id": "c37b6cb8",
   "metadata": {},
   "outputs": [
    {
     "name": "stdout",
     "output_type": "stream",
     "text": [
      "                      Order ID\n",
      "Name                          \n",
      "Носки беговые Camino         1\n"
     ]
    }
   ],
   "source": [
    "# Фильтруем отменённые заказы\n",
    "cancelled_orders = orders_products_left[orders_products_left['Отменен'] == 'Да']\n",
    "\n",
    "\n",
    "pivot_cancelled = cancelled_orders.pivot_table(\n",
    "    index='Name',\n",
    "    values='Order ID',\n",
    "    aggfunc='count'\n",
    ").sort_values(by='Order ID', ascending=False)\n",
    "\n",
    "print(pivot_cancelled)"
   ]
  },
  {
   "cell_type": "code",
   "execution_count": 13,
   "id": "91b5f42a",
   "metadata": {},
   "outputs": [
    {
     "name": "stdout",
     "output_type": "stream",
     "text": [
      "Оплачен             Да     Нет\n",
      "ID Покупателя                 \n",
      "7              17096.0     0.0\n",
      "5              13043.0   999.0\n",
      "8               1344.0  1743.0\n",
      "1                  0.0  2240.0\n",
      "9                  0.0  7040.0\n",
      "10                 0.0   995.0\n"
     ]
    }
   ],
   "source": [
    "# Создаем колонку 'Profit' для всех заказов\n",
    "orders_products_left['Profit'] = orders_products_left['Количество'] * orders_products_left['Price']\n",
    "\n",
    "# Создаем pivot_table\n",
    "pivot = orders_products_left.pivot_table(\n",
    "    index='ID Покупателя',\n",
    "    values='Profit',\n",
    "    columns='Оплачен',  # группируем по \"Да\"/\"Нет\"\n",
    "    aggfunc='sum',\n",
    "    fill_value=0  # чтобы NaN заменить на 0\n",
    ")\n",
    "\n",
    "# Сортируем по прибыли \"Да\"\n",
    "pivot_sorted = pivot.sort_values(by='Да', ascending=False)\n",
    "\n",
    "print(pivot_sorted)\n"
   ]
  }
 ],
 "metadata": {
  "kernelspec": {
   "display_name": ".venv-sf",
   "language": "python",
   "name": "python3"
  },
  "language_info": {
   "codemirror_mode": {
    "name": "ipython",
    "version": 3
   },
   "file_extension": ".py",
   "mimetype": "text/x-python",
   "name": "python",
   "nbconvert_exporter": "python",
   "pygments_lexer": "ipython3",
   "version": "3.11.8"
  }
 },
 "nbformat": 4,
 "nbformat_minor": 5
}
